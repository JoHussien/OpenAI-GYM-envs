{
 "cells": [
  {
   "cell_type": "code",
   "execution_count": 1,
   "metadata": {},
   "outputs": [],
   "source": [
    "#note that this is my first interaction with OpenAI Gym and te first time to write code of RL\n",
    "import numpy as np\n",
    "import math, time, random\n",
    "from typing import Tuple\n",
    "import gym \n",
    "import random\n"
   ]
  },
  {
   "cell_type": "code",
   "execution_count": 24,
   "metadata": {},
   "outputs": [
    {
     "name": "stdout",
     "output_type": "stream",
     "text": [
      "13\n"
     ]
    }
   ],
   "source": [
    "\n",
    "env= gym.make('Pendulum-v0')\n",
    "\n",
    "print (random.randint(1,37))"
   ]
  },
  {
   "cell_type": "code",
   "execution_count": 29,
   "metadata": {},
   "outputs": [
    {
     "name": "stdout",
     "output_type": "stream",
     "text": [
      "Action is :  [15130659732617776405] Observations number:  0   [0.86486826 0.5019989  1.40969646]\n",
      "Action is :  [7505800995045435591] Observations number:  1   [0.80789892 0.58932108 2.08619563]\n",
      "Action is :  [17505264224155570181] Observations number:  2   [0.71677672 0.69730275 2.82818644]\n",
      "Action is :  [381542937048509068] Observations number:  3   [0.57827327 0.81584314 3.65116351]\n",
      "Action is :  [18261113318512312374] Observations number:  4   [0.37876204 0.92549409 4.56304586]\n",
      "Action is :  [13435859029026457874] Observations number:  5   [0.11037464 0.99389005 5.55716643]\n",
      "Action is :  [4420331806260432058] Observations number:  6   [-0.21777016  0.97600008  6.60258397]\n",
      "Action is :  [2886557259892165187] Observations number:  7   [-0.56568064  0.82462441  7.63458403]\n",
      "Action is :  [2843741395713380896] Observations number:  8   [-0.85673786  0.51575211  8.        ]\n",
      "Action is :  [16952648911609245642] Observations number:  9   [-0.99422265  0.1073374   8.        ]\n",
      "Action is :  [10824299025524636] Observations number:  10   [-0.95188087 -0.30646829  8.        ]\n",
      "Action is :  [8349292530501970697] Observations number:  11   [-0.75510111 -0.65560836  8.        ]\n",
      "Action is :  [15818696845760809775] Observations number:  12   [-0.44877461 -0.89364498  7.80829373]\n",
      "Action is :  [8859046288190609573] Observations number:  13   [-0.09335451 -0.99563293  7.43806   ]\n",
      "Action is :  [13152623035570495265] Observations number:  14   [ 0.25328659 -0.96739129  6.9913353 ]\n",
      "Action is :  [14109917405256666500] Observations number:  15   [ 0.55167046 -0.83406217  6.56579183]\n",
      "Action is :  [8928311231896735889] Observations number:  16   [ 0.78107029 -0.62444311  6.24024521]\n",
      "Action is :  [1684127922930322131] Observations number:  17   [ 0.93202953 -0.36238234  6.07191287]\n",
      "Action is :  [159607532071805462] Observations number:  18   [ 0.99783488 -0.06576889  6.10012612]\n",
      "Action is :  [1854260098082107706] Observations number:  19   [0.96848456 0.24907358 6.35079945]\n",
      "Action is :  [13367974393789929519] Observations number:  20   [0.82893027 0.55935195 6.83760464]\n",
      "Action is :  [5240571113042568971] Observations number:  21   [0.56409481 0.82571002 7.5571186 ]\n",
      "Action is :  [17000662882715093490] Observations number:  22   [0.17461676 0.98463647 8.        ]\n",
      "Action is :  [3419921979888212738] Observations number:  23   [-0.27290112  0.96204209  8.        ]\n",
      "Action is :  [2978193383205893790] Observations number:  24   [-0.6649926   0.74684995  8.        ]\n",
      "Action is :  [3909179945062170362] Observations number:  25   [-0.92094197  0.38969975  8.        ]\n",
      "Action is :  [7591944814112313463] Observations number:  26   [-0.99957055 -0.029304    8.        ]\n",
      "Action is :  [13950452222547673667] Observations number:  27   [-0.90338004 -0.42884088  8.        ]\n",
      "Action is :  [7544908558706071734] Observations number:  28   [-0.66587689 -0.74606164  7.97836934]\n",
      "Action is :  [13315858271942464458] Observations number:  29   [-0.33605712 -0.9418416   7.71882311]\n",
      "Action is :  [5758390137008443762] Observations number:  30   [ 0.02289269 -0.99973793  7.31244191]\n",
      "Action is :  [15603234688205157625] Observations number:  31   [ 0.35790809 -0.93375682  6.86263846]\n",
      "Action is :  [14906410090651004946] Observations number:  32   [ 0.63587572 -0.77179146  6.46232084]\n",
      "Action is :  [18100886784583607280] Observations number:  33   [ 0.8405602  -0.54171814  6.18347725]\n",
      "Action is :  [1618207790840543141] Observations number:  34   [ 0.96413797 -0.26540155  6.07718864]\n",
      "Action is :  [1751567579518656783] Observations number:  35   [0.99918861 0.0402756  6.17813748]\n",
      "Action is :  [17635327391207807290] Observations number:  36   [0.93387234 0.35760655 6.50834418]\n",
      "Action is :  [17309663723469787436] Observations number:  37   [0.75211479 0.65903212 7.07654909]\n",
      "Action is :  [9591856928742755413] Observations number:  38   [0.44190755 0.8970606  7.87082318]\n",
      "Action is :  [2001155753974940763] Observations number:  39   [0.01554245 0.99987921 8.        ]\n",
      "Action is :  [17264363622608718451] Observations number:  40   [-0.42318016  0.90604556  8.        ]\n",
      "Action is :  [16281569075073592483] Observations number:  41   [-0.77450304  0.63257018  8.        ]\n",
      "Action is :  [17050298191931968242] Observations number:  42   [-0.96985876  0.24366779  8.        ]\n",
      "Action is :  [1686494500588423805] Observations number:  43   [-0.98420125 -0.17705336  8.        ]\n",
      "Action is :  [14403766451073445655] Observations number:  44   [-0.83296464 -0.55332622  8.        ]\n",
      "Action is :  [11335565298354677639] Observations number:  45   [-0.5565221  -0.83083281  7.88500533]\n",
      "Action is :  [7370016645859273589] Observations number:  46   [-0.21051313 -0.97759103  7.56188073]\n",
      "Action is :  [2330559158786015628] Observations number:  47   [ 0.14383393 -0.98960184  7.12868746]\n",
      "Action is :  [15610313672576483576] Observations number:  48   [ 0.46058917 -0.88761344  6.68648608]\n",
      "Action is :  [11231670739067501240] Observations number:  49   [ 0.71365184 -0.70050057  6.320776  ]\n",
      "Action is :  [18284692801857842014] Observations number:  50   [ 0.89096577 -0.45407047  6.09540057]\n",
      "Action is :  [11458445224521060327] Observations number:  51   [ 0.98582296 -0.16778882  6.05484772]\n",
      "Action is :  [16540743911161672786] Observations number:  52   [0.98981228 0.14237856 6.22900611]\n",
      "Action is :  [14691876120450106031] Observations number:  53   [0.88945112 0.45703032 6.63579003]\n",
      "Action is :  [13892538338550616075] Observations number:  54   [0.66851829 0.7436957  7.27856277]\n",
      "Action is :  [8127315382577550850] Observations number:  55   [0.31968585 0.94752359 8.        ]\n",
      "Action is :  [7623475102295398137] Observations number:  56   [-0.1248079   0.99218092  8.        ]\n",
      "Action is :  [11120795823872960282] Observations number:  57   [-0.54579785  0.83791689  8.        ]\n",
      "Action is :  [9914294347002276981] Observations number:  58   [-0.85407135  0.52015587  8.        ]\n",
      "Action is :  [14817737387289850126] Observations number:  59   [-0.99367545  0.11229027  8.        ]\n",
      "Action is :  [12908046646032274607] Observations number:  60   [-0.95334012 -0.30189835  8.        ]\n",
      "Action is :  [11769399263399072881] Observations number:  61   [-0.7581258  -0.65210833  8.        ]\n",
      "Action is :  [7415728856452650716] Observations number:  62   [-0.45278668 -0.89161888  7.81091875]\n",
      "Action is :  [4368641351778961901] Observations number:  63   [-0.09762233 -0.99522353  7.44220459]\n",
      "Action is :  [133437184522743488] Observations number:  64   [ 0.24935222 -0.96841286  6.99578694]\n",
      "Action is :  [10794923824777065441] Observations number:  65   [ 0.54842969 -0.83619668  6.5694773 ]\n",
      "Action is :  [14625950843033558684] Observations number:  66   [ 0.77870662 -0.62738824  6.24232979]\n",
      "Action is :  [10428939904315665546] Observations number:  67   [ 0.93065213 -0.36590519  6.07178862]\n",
      "Action is :  [18057252015134761383] Observations number:  68   [ 0.99756934 -0.06968075  6.09735973]\n",
      "Action is :  [4929316390332323822] Observations number:  69   [0.96952357 0.24499806 6.34509916]\n",
      "Action is :  [3960768200711526235] Observations number:  70   [0.8315188  0.55549661 6.82884771]\n",
      "Action is :  [9368125398282789935] Observations number:  71   [0.56840238 0.82275071 7.54547016]\n",
      "Action is :  [9220880026567681952] Observations number:  72   [0.18044227 0.98358558 8.        ]\n",
      "Action is :  [15948034731337387760] Observations number:  73   [-0.26716354  0.9636512   8.        ]\n",
      "Action is :  [5916031178418784907] Observations number:  74   [-0.66057568  0.75075946  8.        ]\n",
      "Action is :  [6024224373883654222] Observations number:  75   [-0.91868519  0.39499054  8.        ]\n",
      "Action is :  [18320349900250659683] Observations number:  76   [-0.99971787 -0.02375236  8.        ]\n",
      "Action is :  [18081861263307710639] Observations number:  77   [-0.90565946 -0.42400584  8.        ]\n",
      "Action is :  [12115092539554104912] Observations number:  78   [-0.66972073 -0.74261305  7.98199562]\n",
      "Action is :  [10436463599086314564] Observations number:  79   [-0.34062434 -0.94019948  7.72503583]\n",
      "Action is :  [841353652782626596] Observations number:  80   [ 0.0184124  -0.99983048  7.31988623]\n",
      "Action is :  [16722807679193163567] Observations number:  81   [ 0.35406499 -0.93522082  6.87001337]\n",
      "Action is :  [15664122020610391983] Observations number:  82   [ 0.63293937 -0.77420136  6.46859776]\n",
      "Action is :  [15007157469023017157] Observations number:  83   [ 0.83861809 -0.54471983  6.18794673]\n",
      "Action is :  [14125508840420072806] Observations number:  84   [ 0.96321276 -0.26873998  6.07940686]\n",
      "Action is :  [193000398870993904] Observations number:  85   [0.99932266 0.03679963 6.17785187]\n",
      "Action is :  [10216759706183230509] Observations number:  86   [0.93516188 0.35422062 6.50545159]\n",
      "Action is :  [6620486313512470089] Observations number:  87   [0.75467587 0.65609781 7.07111706]\n",
      "Action is :  [10822456514299963784] Observations number:  88   [0.44573971 0.89516262 7.86319042]\n",
      "Action is :  [11237014850327173879] Observations number:  89   [0.02027092 0.99979452 8.        ]\n",
      "Action is :  [14542200119712149623] Observations number:  90   [-0.41888766  0.90803806  8.        ]\n",
      "Action is :  [4821443750281780830] Observations number:  91   [-0.77154834  0.6361707   8.        ]\n",
      "Action is :  [10722664291438991236] Observations number:  92   [-0.96874681  0.24805164  8.        ]\n",
      "Action is :  [6031438988574511181] Observations number:  93   [-0.98496355 -0.17276227  8.        ]\n",
      "Action is :  [1687003625482222166] Observations number:  94   [-0.83527981 -0.5498251   8.        ]\n",
      "Action is :  [2041731350828916605] Observations number:  95   [-0.55989572 -0.82856309  7.88763117]\n",
      "Action is :  [4021565146694115988] Observations number:  96   [-0.21427496 -0.97677338  7.56620886]\n",
      "Action is :  [5583264564991804680] Observations number:  97   [ 0.14026787 -0.99011359  7.13362882]\n",
      "Action is :  [8671776826303795106] Observations number:  98   [ 0.45759111 -0.88916274  6.69104363]\n",
      "Action is :  [4205664341965764246] Observations number:  99   [ 0.71140312 -0.70278418  6.32417157]\n"
     ]
    }
   ],
   "source": [
    "env.reset()\n",
    "\n",
    "for _ in range(100):\n",
    "    action= env.seed()\n",
    "    env._get_obs,costs ,TF,empty= env.step(action)\n",
    "    print(\"Action is : \", action, \"Observations number: \",_,\" \",env._get_obs)\n",
    "    env.render('human')\n",
    "    \n"
   ]
  },
  {
   "cell_type": "code",
   "execution_count": null,
   "metadata": {},
   "outputs": [],
   "source": []
  },
  {
   "cell_type": "code",
   "execution_count": null,
   "metadata": {},
   "outputs": [],
   "source": []
  }
 ],
 "metadata": {
  "kernelspec": {
   "display_name": "Python 3",
   "language": "python",
   "name": "python3"
  },
  "language_info": {
   "codemirror_mode": {
    "name": "ipython",
    "version": 3
   },
   "file_extension": ".py",
   "mimetype": "text/x-python",
   "name": "python",
   "nbconvert_exporter": "python",
   "pygments_lexer": "ipython3",
   "version": "3.7.4"
  }
 },
 "nbformat": 4,
 "nbformat_minor": 2
}

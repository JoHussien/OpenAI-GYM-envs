{
 "cells": [
  {
   "cell_type": "code",
   "execution_count": 4,
   "metadata": {},
   "outputs": [],
   "source": [
    "import numpy as np\n",
    "import math, time, random\n",
    "from typing import Tuple\n",
    "import gym \n",
    "import random"
   ]
  },
  {
   "cell_type": "code",
   "execution_count": 17,
   "metadata": {},
   "outputs": [],
   "source": [
    "env= gym.make('Roulette-v0')\n"
   ]
  },
  {
   "cell_type": "code",
   "execution_count": 28,
   "metadata": {},
   "outputs": [
    {
     "name": "stdout",
     "output_type": "stream",
     "text": [
      "Trial  1  action is  2  Reward is  -1.0\n",
      "Trial  2  action is  36  Reward is  1.0\n",
      "Trial  3  action is  8  Reward is  1.0\n",
      "Trial  4  action is  23  Reward is  -1.0\n",
      "Trial  5  action is  16  Reward is  1.0\n",
      "Trial  6  action is  18  Reward is  1.0\n",
      "Trial  7  action is  1  Reward is  -1.0\n",
      "Trial  8  action is  20  Reward is  1.0\n",
      "Trial  9  action is  24  Reward is  1.0\n",
      "Trial  10  action is  30  Reward is  -1.0\n",
      "Trial  11  action is  6  Reward is  1.0\n",
      "Trial  12  action is  7  Reward is  -1.0\n",
      "Trial  13  action is  32  Reward is  1.0\n",
      "Trial  14  action is  19  Reward is  -1.0\n",
      "Trial  15  action is  20  Reward is  1.0\n",
      "Trial  16  action is  0  Reward is  -1.0\n",
      "Trial  17  action is  35  Reward is  -1.0\n",
      "Trial  18  action is  31  Reward is  1.0\n",
      "Trial  19  action is  27  Reward is  0\n",
      "Trial  20  action is  11  Reward is  -1.0\n",
      "Trial  21  action is  1  Reward is  1.0\n",
      "Trial  22  action is  15  Reward is  -1.0\n",
      "Trial  23  action is  11  Reward is  1.0\n",
      "Trial  24  action is  13  Reward is  1.0\n",
      "Trial  25  action is  32  Reward is  -1.0\n",
      "Trial  26  action is  21  Reward is  1.0\n",
      "Trial  27  action is  37  Reward is  -1.0\n",
      "Trial  28  action is  22  Reward is  -1.0\n",
      "Trial  29  action is  32  Reward is  1.0\n",
      "Trial  30  action is  19  Reward is  -1.0\n",
      "Trial  31  action is  25  Reward is  -1.0\n",
      "Trial  32  action is  14  Reward is  1.0\n",
      "Trial  33  action is  34  Reward is  -1.0\n",
      "Trial  34  action is  17  Reward is  -1.0\n",
      "Trial  35  action is  0  Reward is  -1.0\n",
      "Trial  36  action is  34  Reward is  1.0\n",
      "Trial  37  action is  16  Reward is  -1.0\n",
      "Trial  38  action is  15  Reward is  1.0\n",
      "Trial  39  action is  3  Reward is  1.0\n",
      "Trial  40  action is  5  Reward is  -1.0\n"
     ]
    }
   ],
   "source": [
    "#Okay we know that there is no render here, so we will only have \n",
    "#random seeds to get a final reward from the step fucntion and this is roulette simply\n",
    "env.reset()\n",
    "#I don't know how to print the observation space\n",
    "for _ in range(40):\n",
    "    action2= env.action_space.sample()\n",
    "    action = random.randint(0,37)#I did this as I didn't know the sample method\n",
    "    obs,reward,label,info = env.step(action2)\n",
    "    print (\"Trial \", _+1, \" action is \", action ,\" Reward is \", reward)"
   ]
  },
  {
   "cell_type": "code",
   "execution_count": null,
   "metadata": {},
   "outputs": [],
   "source": []
  }
 ],
 "metadata": {
  "kernelspec": {
   "display_name": "Python 3",
   "language": "python",
   "name": "python3"
  },
  "language_info": {
   "codemirror_mode": {
    "name": "ipython",
    "version": 3
   },
   "file_extension": ".py",
   "mimetype": "text/x-python",
   "name": "python",
   "nbconvert_exporter": "python",
   "pygments_lexer": "ipython3",
   "version": "3.7.4"
  }
 },
 "nbformat": 4,
 "nbformat_minor": 2
}
